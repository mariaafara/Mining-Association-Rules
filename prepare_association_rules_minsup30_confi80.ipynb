{
 "cells": [
  {
   "cell_type": "code",
   "execution_count": 23,
   "metadata": {},
   "outputs": [],
   "source": [
    "import pandas as pd\n",
    "import numpy as np\n",
    "import pickle\n",
    "\n",
    "pd.set_option('display.max_columns', None)\n",
    "pd.set_option(\"display.max_colwidth\",1000)"
   ]
  },
  {
   "cell_type": "markdown",
   "metadata": {},
   "source": [
    "# This notebook shows the scripts and analysis at the same time for association rules of min support of 0.3 and confidence of 0.8"
   ]
  },
  {
   "cell_type": "code",
   "execution_count": null,
   "metadata": {},
   "outputs": [],
   "source": [
    "df=pickle.load(open(\"association_rules_minsup30_confi_80.p\",\"rb\"))"
   ]
  },
  {
   "cell_type": "markdown",
   "metadata": {},
   "source": [
    "created a dataframe containing each association rule as a and its sup  and confidence and right and left side attributes"
   ]
  },
  {
   "cell_type": "code",
   "execution_count": 2,
   "metadata": {},
   "outputs": [],
   "source": [
    "file=open(\"results/decoded_association_rules_minsup30_confi_80.txt\")"
   ]
  },
  {
   "cell_type": "code",
   "execution_count": 3,
   "metadata": {},
   "outputs": [],
   "source": [
    "l=[\"left\" for i in range(25)]\n",
    "l.extend([\"right\" for i in range(25)])\n",
    "l.extend([\"sup\",\"conf\",\"rule\"])\n",
    "df=pd.DataFrame(columns=[l,[\"AGER20\", \"ANARR\",\"DEROU\" ,\"DIPL_15\", \"EMPL\", \"ETUD\", \"GARL\", \"ILTUU\", \"IMMI\", \"INAT\", \"INFAM\", \"INPER\", \"MODV\",\n",
    "\"NATC\", \"NBPI\", \"NPERR\", \"RECH\", \"SFM\", \"TACT\", \"VOIT\",\"TYPMR\",\"TRANS\",\"PNAI12\", \"CS2\",\"TYPL\",\"AGER20\", \"ANARR\",\"DEROU\" ,\"DIPL_15\", \"EMPL\", \"ETUD\", \"GARL\", \"ILTUU\", \"IMMI\", \"INAT\", \"INFAM\", \"INPER\", \"MODV\",\n",
    "\"NATC\", \"NBPI\", \"NPERR\", \"RECH\", \"SFM\", \"TACT\", \"VOIT\",\"TYPMR\",\"TRANS\",\"PNAI12\", \"CS2\",\"TYPL\",\"sup\",\"conf\",\"rule\"]])\n",
    "for line in file:\n",
    "    l=line.split(\"#\")\n",
    "    asoc=l[0].split(\"==>\")\n",
    "    asoc_from=asoc[0].strip().replace(\", '\",\",'\").split(\" \")\n",
    "    asoc_to=asoc[1].strip().replace(\", '\",\",'\").split(\" \")\n",
    "    dic={}\n",
    "    dic[(\"sup\",\"sup\")]=float(l[1][5:])\n",
    "    dic[(\"conf\",\"conf\")]=float(l[2][6:len(l[2])-2])\n",
    "    dic[(\"rule\",\"rule\")]=l[0]\n",
    "\n",
    "    for i in asoc_from:\n",
    "        tup=i.split(\"','\")\n",
    "        col=tup[0][2:]\n",
    "        val=tup[1][:len(tup[1])-2]\n",
    "        dic[(\"left\",col)]=val\n",
    "    for i in asoc_to:\n",
    "        tup=i.split(\"','\")\n",
    "        col=tup[0][2:]\n",
    "        val=tup[1][:len(tup[1])-2]\n",
    "        dic[(\"right\",col)]=val\n",
    "    df=df.append(dic,ignore_index=True)"
   ]
  },
  {
   "cell_type": "code",
   "execution_count": 4,
   "metadata": {},
   "outputs": [
    {
     "data": {
      "text/plain": [
       "(86038, 53)"
      ]
     },
     "execution_count": 4,
     "metadata": {},
     "output_type": "execute_result"
    }
   ],
   "source": [
    "df.shape"
   ]
  },
  {
   "cell_type": "markdown",
   "metadata": {},
   "source": [
    "i removed all the coloumns which have all its values as nan"
   ]
  },
  {
   "cell_type": "code",
   "execution_count": 166,
   "metadata": {},
   "outputs": [
    {
     "data": {
      "text/html": [
       "<div>\n",
       "<style scoped>\n",
       "    .dataframe tbody tr th:only-of-type {\n",
       "        vertical-align: middle;\n",
       "    }\n",
       "\n",
       "    .dataframe tbody tr th {\n",
       "        vertical-align: top;\n",
       "    }\n",
       "\n",
       "    .dataframe thead tr th {\n",
       "        text-align: left;\n",
       "    }\n",
       "</style>\n",
       "<table border=\"1\" class=\"dataframe\">\n",
       "  <thead>\n",
       "    <tr>\n",
       "      <th></th>\n",
       "      <th colspan=\"18\" halign=\"left\">left</th>\n",
       "      <th colspan=\"14\" halign=\"left\">right</th>\n",
       "      <th>sup</th>\n",
       "      <th>conf</th>\n",
       "      <th>rule</th>\n",
       "      <th>right_length</th>\n",
       "      <th>left_length</th>\n",
       "    </tr>\n",
       "    <tr>\n",
       "      <th></th>\n",
       "      <th>ANARR</th>\n",
       "      <th>DEROU</th>\n",
       "      <th>EMPL</th>\n",
       "      <th>ETUD</th>\n",
       "      <th>GARL</th>\n",
       "      <th>ILTUU</th>\n",
       "      <th>IMMI</th>\n",
       "      <th>INAT</th>\n",
       "      <th>INFAM</th>\n",
       "      <th>NATC</th>\n",
       "      <th>RECH</th>\n",
       "      <th>TACT</th>\n",
       "      <th>VOIT</th>\n",
       "      <th>TYPMR</th>\n",
       "      <th>TRANS</th>\n",
       "      <th>PNAI12</th>\n",
       "      <th>CS2</th>\n",
       "      <th>TYPL</th>\n",
       "      <th>ANARR</th>\n",
       "      <th>DEROU</th>\n",
       "      <th>EMPL</th>\n",
       "      <th>ETUD</th>\n",
       "      <th>GARL</th>\n",
       "      <th>ILTUU</th>\n",
       "      <th>IMMI</th>\n",
       "      <th>INAT</th>\n",
       "      <th>INFAM</th>\n",
       "      <th>NATC</th>\n",
       "      <th>RECH</th>\n",
       "      <th>TACT</th>\n",
       "      <th>TRANS</th>\n",
       "      <th>PNAI12</th>\n",
       "      <th>sup</th>\n",
       "      <th>conf</th>\n",
       "      <th>rule</th>\n",
       "      <th></th>\n",
       "      <th></th>\n",
       "    </tr>\n",
       "  </thead>\n",
       "  <tbody>\n",
       "    <tr>\n",
       "      <th>0</th>\n",
       "      <td>NaN</td>\n",
       "      <td>Z</td>\n",
       "      <td>NaN</td>\n",
       "      <td>NaN</td>\n",
       "      <td>NaN</td>\n",
       "      <td>NaN</td>\n",
       "      <td>NaN</td>\n",
       "      <td>NaN</td>\n",
       "      <td>NaN</td>\n",
       "      <td>NaN</td>\n",
       "      <td>NaN</td>\n",
       "      <td>NaN</td>\n",
       "      <td>NaN</td>\n",
       "      <td>NaN</td>\n",
       "      <td>NaN</td>\n",
       "      <td>NaN</td>\n",
       "      <td>NaN</td>\n",
       "      <td>NaN</td>\n",
       "      <td>Z</td>\n",
       "      <td>NaN</td>\n",
       "      <td>NaN</td>\n",
       "      <td>NaN</td>\n",
       "      <td>NaN</td>\n",
       "      <td>NaN</td>\n",
       "      <td>NaN</td>\n",
       "      <td>NaN</td>\n",
       "      <td>NaN</td>\n",
       "      <td>NaN</td>\n",
       "      <td>NaN</td>\n",
       "      <td>NaN</td>\n",
       "      <td>NaN</td>\n",
       "      <td>NaN</td>\n",
       "      <td>1070144.0</td>\n",
       "      <td>0.878290</td>\n",
       "      <td>('DEROU', 'Z') ==&gt; ('ANARR', 'Z')</td>\n",
       "      <td>1</td>\n",
       "      <td>1</td>\n",
       "    </tr>\n",
       "    <tr>\n",
       "      <th>1</th>\n",
       "      <td>Z</td>\n",
       "      <td>NaN</td>\n",
       "      <td>NaN</td>\n",
       "      <td>NaN</td>\n",
       "      <td>NaN</td>\n",
       "      <td>NaN</td>\n",
       "      <td>NaN</td>\n",
       "      <td>NaN</td>\n",
       "      <td>NaN</td>\n",
       "      <td>NaN</td>\n",
       "      <td>NaN</td>\n",
       "      <td>NaN</td>\n",
       "      <td>NaN</td>\n",
       "      <td>NaN</td>\n",
       "      <td>NaN</td>\n",
       "      <td>NaN</td>\n",
       "      <td>NaN</td>\n",
       "      <td>NaN</td>\n",
       "      <td>NaN</td>\n",
       "      <td>Z</td>\n",
       "      <td>NaN</td>\n",
       "      <td>NaN</td>\n",
       "      <td>NaN</td>\n",
       "      <td>NaN</td>\n",
       "      <td>NaN</td>\n",
       "      <td>NaN</td>\n",
       "      <td>NaN</td>\n",
       "      <td>NaN</td>\n",
       "      <td>NaN</td>\n",
       "      <td>NaN</td>\n",
       "      <td>NaN</td>\n",
       "      <td>NaN</td>\n",
       "      <td>1070144.0</td>\n",
       "      <td>0.999999</td>\n",
       "      <td>('ANARR', 'Z') ==&gt; ('DEROU', 'Z')</td>\n",
       "      <td>1</td>\n",
       "      <td>1</td>\n",
       "    </tr>\n",
       "    <tr>\n",
       "      <th>2</th>\n",
       "      <td>NaN</td>\n",
       "      <td>NaN</td>\n",
       "      <td>ZZ</td>\n",
       "      <td>NaN</td>\n",
       "      <td>NaN</td>\n",
       "      <td>NaN</td>\n",
       "      <td>NaN</td>\n",
       "      <td>NaN</td>\n",
       "      <td>NaN</td>\n",
       "      <td>NaN</td>\n",
       "      <td>NaN</td>\n",
       "      <td>NaN</td>\n",
       "      <td>NaN</td>\n",
       "      <td>NaN</td>\n",
       "      <td>NaN</td>\n",
       "      <td>NaN</td>\n",
       "      <td>NaN</td>\n",
       "      <td>NaN</td>\n",
       "      <td>Z</td>\n",
       "      <td>NaN</td>\n",
       "      <td>NaN</td>\n",
       "      <td>NaN</td>\n",
       "      <td>NaN</td>\n",
       "      <td>NaN</td>\n",
       "      <td>NaN</td>\n",
       "      <td>NaN</td>\n",
       "      <td>NaN</td>\n",
       "      <td>NaN</td>\n",
       "      <td>NaN</td>\n",
       "      <td>NaN</td>\n",
       "      <td>NaN</td>\n",
       "      <td>NaN</td>\n",
       "      <td>636248.0</td>\n",
       "      <td>0.873151</td>\n",
       "      <td>('EMPL', 'ZZ') ==&gt; ('ANARR', 'Z')</td>\n",
       "      <td>1</td>\n",
       "      <td>1</td>\n",
       "    </tr>\n",
       "    <tr>\n",
       "      <th>3</th>\n",
       "      <td>NaN</td>\n",
       "      <td>NaN</td>\n",
       "      <td>NaN</td>\n",
       "      <td>2.0</td>\n",
       "      <td>NaN</td>\n",
       "      <td>NaN</td>\n",
       "      <td>NaN</td>\n",
       "      <td>NaN</td>\n",
       "      <td>NaN</td>\n",
       "      <td>NaN</td>\n",
       "      <td>NaN</td>\n",
       "      <td>NaN</td>\n",
       "      <td>NaN</td>\n",
       "      <td>NaN</td>\n",
       "      <td>NaN</td>\n",
       "      <td>NaN</td>\n",
       "      <td>NaN</td>\n",
       "      <td>NaN</td>\n",
       "      <td>Z</td>\n",
       "      <td>NaN</td>\n",
       "      <td>NaN</td>\n",
       "      <td>NaN</td>\n",
       "      <td>NaN</td>\n",
       "      <td>NaN</td>\n",
       "      <td>NaN</td>\n",
       "      <td>NaN</td>\n",
       "      <td>NaN</td>\n",
       "      <td>NaN</td>\n",
       "      <td>NaN</td>\n",
       "      <td>NaN</td>\n",
       "      <td>NaN</td>\n",
       "      <td>NaN</td>\n",
       "      <td>806444.0</td>\n",
       "      <td>0.865434</td>\n",
       "      <td>('ETUD', '2.0') ==&gt; ('ANARR', 'Z')</td>\n",
       "      <td>1</td>\n",
       "      <td>1</td>\n",
       "    </tr>\n",
       "    <tr>\n",
       "      <th>4</th>\n",
       "      <td>NaN</td>\n",
       "      <td>NaN</td>\n",
       "      <td>NaN</td>\n",
       "      <td>NaN</td>\n",
       "      <td>1.0</td>\n",
       "      <td>NaN</td>\n",
       "      <td>NaN</td>\n",
       "      <td>NaN</td>\n",
       "      <td>NaN</td>\n",
       "      <td>NaN</td>\n",
       "      <td>NaN</td>\n",
       "      <td>NaN</td>\n",
       "      <td>NaN</td>\n",
       "      <td>NaN</td>\n",
       "      <td>NaN</td>\n",
       "      <td>NaN</td>\n",
       "      <td>NaN</td>\n",
       "      <td>NaN</td>\n",
       "      <td>Z</td>\n",
       "      <td>NaN</td>\n",
       "      <td>NaN</td>\n",
       "      <td>NaN</td>\n",
       "      <td>NaN</td>\n",
       "      <td>NaN</td>\n",
       "      <td>NaN</td>\n",
       "      <td>NaN</td>\n",
       "      <td>NaN</td>\n",
       "      <td>NaN</td>\n",
       "      <td>NaN</td>\n",
       "      <td>NaN</td>\n",
       "      <td>NaN</td>\n",
       "      <td>NaN</td>\n",
       "      <td>751396.0</td>\n",
       "      <td>0.903980</td>\n",
       "      <td>('GARL', '1.0') ==&gt; ('ANARR', 'Z')</td>\n",
       "      <td>1</td>\n",
       "      <td>1</td>\n",
       "    </tr>\n",
       "  </tbody>\n",
       "</table>\n",
       "</div>"
      ],
      "text/plain": [
       "   left                                                                       \\\n",
       "  ANARR DEROU EMPL ETUD GARL ILTUU IMMI INAT INFAM NATC RECH TACT VOIT TYPMR   \n",
       "0   NaN     Z  NaN  NaN  NaN   NaN  NaN  NaN   NaN  NaN  NaN  NaN  NaN   NaN   \n",
       "1     Z   NaN  NaN  NaN  NaN   NaN  NaN  NaN   NaN  NaN  NaN  NaN  NaN   NaN   \n",
       "2   NaN   NaN   ZZ  NaN  NaN   NaN  NaN  NaN   NaN  NaN  NaN  NaN  NaN   NaN   \n",
       "3   NaN   NaN  NaN  2.0  NaN   NaN  NaN  NaN   NaN  NaN  NaN  NaN  NaN   NaN   \n",
       "4   NaN   NaN  NaN  NaN  1.0   NaN  NaN  NaN   NaN  NaN  NaN  NaN  NaN   NaN   \n",
       "\n",
       "                         right                                             \\\n",
       "  TRANS PNAI12  CS2 TYPL ANARR DEROU EMPL ETUD GARL ILTUU IMMI INAT INFAM   \n",
       "0   NaN    NaN  NaN  NaN     Z   NaN  NaN  NaN  NaN   NaN  NaN  NaN   NaN   \n",
       "1   NaN    NaN  NaN  NaN   NaN     Z  NaN  NaN  NaN   NaN  NaN  NaN   NaN   \n",
       "2   NaN    NaN  NaN  NaN     Z   NaN  NaN  NaN  NaN   NaN  NaN  NaN   NaN   \n",
       "3   NaN    NaN  NaN  NaN     Z   NaN  NaN  NaN  NaN   NaN  NaN  NaN   NaN   \n",
       "4   NaN    NaN  NaN  NaN     Z   NaN  NaN  NaN  NaN   NaN  NaN  NaN   NaN   \n",
       "\n",
       "                                     sup      conf  \\\n",
       "  NATC RECH TACT TRANS PNAI12        sup      conf   \n",
       "0  NaN  NaN  NaN   NaN    NaN  1070144.0  0.878290   \n",
       "1  NaN  NaN  NaN   NaN    NaN  1070144.0  0.999999   \n",
       "2  NaN  NaN  NaN   NaN    NaN   636248.0  0.873151   \n",
       "3  NaN  NaN  NaN   NaN    NaN   806444.0  0.865434   \n",
       "4  NaN  NaN  NaN   NaN    NaN   751396.0  0.903980   \n",
       "\n",
       "                                  rule right_length left_length  \n",
       "                                  rule                           \n",
       "0   ('DEROU', 'Z') ==> ('ANARR', 'Z')             1           1  \n",
       "1   ('ANARR', 'Z') ==> ('DEROU', 'Z')             1           1  \n",
       "2   ('EMPL', 'ZZ') ==> ('ANARR', 'Z')             1           1  \n",
       "3  ('ETUD', '2.0') ==> ('ANARR', 'Z')             1           1  \n",
       "4  ('GARL', '1.0') ==> ('ANARR', 'Z')             1           1  "
      ]
     },
     "execution_count": 166,
     "metadata": {},
     "output_type": "execute_result"
    }
   ],
   "source": [
    "df=df.loc[:,np.logical_not(df.isna()).sum()!=0]\n",
    "df.head()"
   ]
  },
  {
   "cell_type": "code",
   "execution_count": 24,
   "metadata": {},
   "outputs": [],
   "source": [
    "# pickle.dump( df, open( \"association_rules_minsup30_confi_80.p\", \"wb\" ) )"
   ]
  },
  {
   "cell_type": "markdown",
   "metadata": {},
   "source": [
    "Counting the length of the attributes for the left and the right respectively to ease the axess to the results and analysis"
   ]
  },
  {
   "cell_type": "code",
   "execution_count": 44,
   "metadata": {},
   "outputs": [],
   "source": [
    "df['left_length'] = df.loc[:,\"left\"].apply(lambda x: x.count(), axis=1)"
   ]
  },
  {
   "cell_type": "code",
   "execution_count": 45,
   "metadata": {},
   "outputs": [],
   "source": [
    "df['right_length'] = df.loc[:,\"right\"].apply(lambda x: x.count(), axis=1)"
   ]
  },
  {
   "cell_type": "markdown",
   "metadata": {},
   "source": [
    " "
   ]
  },
  {
   "cell_type": "markdown",
   "metadata": {},
   "source": [
    " "
   ]
  },
  {
   "cell_type": "markdown",
   "metadata": {},
   "source": [
    " "
   ]
  },
  {
   "cell_type": "markdown",
   "metadata": {},
   "source": [
    " "
   ]
  },
  {
   "cell_type": "markdown",
   "metadata": {},
   "source": [
    "I am interested to study the status of the immigrants in GrandEst so I searched for the rules which contain the IMMI attribute with value to 1 which indicates the immigration."
   ]
  },
  {
   "cell_type": "code",
   "execution_count": 11,
   "metadata": {},
   "outputs": [
    {
     "data": {
      "text/html": [
       "<div>\n",
       "<style scoped>\n",
       "    .dataframe tbody tr th:only-of-type {\n",
       "        vertical-align: middle;\n",
       "    }\n",
       "\n",
       "    .dataframe tbody tr th {\n",
       "        vertical-align: top;\n",
       "    }\n",
       "\n",
       "    .dataframe thead tr th {\n",
       "        text-align: left;\n",
       "    }\n",
       "</style>\n",
       "<table border=\"1\" class=\"dataframe\">\n",
       "  <thead>\n",
       "    <tr>\n",
       "      <th></th>\n",
       "      <th colspan=\"18\" halign=\"left\">left</th>\n",
       "      <th colspan=\"14\" halign=\"left\">right</th>\n",
       "      <th>sup</th>\n",
       "      <th>conf</th>\n",
       "      <th>rule</th>\n",
       "    </tr>\n",
       "    <tr>\n",
       "      <th></th>\n",
       "      <th>ANARR</th>\n",
       "      <th>DEROU</th>\n",
       "      <th>EMPL</th>\n",
       "      <th>ETUD</th>\n",
       "      <th>GARL</th>\n",
       "      <th>ILTUU</th>\n",
       "      <th>IMMI</th>\n",
       "      <th>INAT</th>\n",
       "      <th>INFAM</th>\n",
       "      <th>NATC</th>\n",
       "      <th>RECH</th>\n",
       "      <th>TACT</th>\n",
       "      <th>VOIT</th>\n",
       "      <th>TYPMR</th>\n",
       "      <th>TRANS</th>\n",
       "      <th>PNAI12</th>\n",
       "      <th>CS2</th>\n",
       "      <th>TYPL</th>\n",
       "      <th>ANARR</th>\n",
       "      <th>DEROU</th>\n",
       "      <th>EMPL</th>\n",
       "      <th>ETUD</th>\n",
       "      <th>GARL</th>\n",
       "      <th>ILTUU</th>\n",
       "      <th>IMMI</th>\n",
       "      <th>INAT</th>\n",
       "      <th>INFAM</th>\n",
       "      <th>NATC</th>\n",
       "      <th>RECH</th>\n",
       "      <th>TACT</th>\n",
       "      <th>TRANS</th>\n",
       "      <th>PNAI12</th>\n",
       "      <th>sup</th>\n",
       "      <th>conf</th>\n",
       "      <th>rule</th>\n",
       "    </tr>\n",
       "  </thead>\n",
       "  <tbody>\n",
       "  </tbody>\n",
       "</table>\n",
       "</div>"
      ],
      "text/plain": [
       "Empty DataFrame\n",
       "Columns: [(left, ANARR), (left, DEROU), (left, EMPL), (left, ETUD), (left, GARL), (left, ILTUU), (left, IMMI), (left, INAT), (left, INFAM), (left, NATC), (left, RECH), (left, TACT), (left, VOIT), (left, TYPMR), (left, TRANS), (left, PNAI12), (left, CS2), (left, TYPL), (right, ANARR), (right, DEROU), (right, EMPL), (right, ETUD), (right, GARL), (right, ILTUU), (right, IMMI), (right, INAT), (right, INFAM), (right, NATC), (right, RECH), (right, TACT), (right, TRANS), (right, PNAI12), (sup, sup), (conf, conf), (rule, rule)]\n",
       "Index: []"
      ]
     },
     "execution_count": 11,
     "metadata": {},
     "output_type": "execute_result"
    }
   ],
   "source": [
    "df[df.loc[:,('left','IMMI')]=='1.0']"
   ]
  },
  {
   "cell_type": "markdown",
   "metadata": {},
   "source": [
    "But it seems that there is no confident rules for immi=1"
   ]
  },
  {
   "cell_type": "markdown",
   "metadata": {},
   "source": [
    " "
   ]
  },
  {
   "cell_type": "markdown",
   "metadata": {},
   "source": [
    " "
   ]
  },
  {
   "cell_type": "markdown",
   "metadata": {},
   "source": [
    " checking the unique values before deciding what to analyse because!!! the values in the dataset are not good at all and every time i have a senario in mind i cannot find the right attributes and values that justify it so i found this way is better "
   ]
  },
  {
   "cell_type": "code",
   "execution_count": 16,
   "metadata": {},
   "outputs": [
    {
     "data": {
      "text/plain": [
       "array([nan, '2.0'], dtype=object)"
      ]
     },
     "execution_count": 16,
     "metadata": {},
     "output_type": "execute_result"
    }
   ],
   "source": [
    "df.loc[:,('right','ETUD')].unique()"
   ]
  },
  {
   "cell_type": "code",
   "execution_count": 10,
   "metadata": {},
   "outputs": [
    {
     "data": {
      "text/plain": [
       "array([nan, '1.0', '2.0'], dtype=object)"
      ]
     },
     "execution_count": 10,
     "metadata": {},
     "output_type": "execute_result"
    }
   ],
   "source": [
    "df.loc[:,('left','VOIT')].unique()"
   ]
  },
  {
   "cell_type": "code",
   "execution_count": 12,
   "metadata": {},
   "outputs": [
    {
     "data": {
      "text/plain": [
       "array([nan, '1.0'], dtype=object)"
      ]
     },
     "execution_count": 12,
     "metadata": {},
     "output_type": "execute_result"
    }
   ],
   "source": [
    "df.loc[:,('right','GARL')].unique()"
   ]
  },
  {
   "cell_type": "code",
   "execution_count": 99,
   "metadata": {},
   "outputs": [
    {
     "data": {
      "text/plain": [
       "array([nan, 'Z', '4'], dtype=object)"
      ]
     },
     "execution_count": 99,
     "metadata": {},
     "output_type": "execute_result"
    }
   ],
   "source": [
    "df.loc[:,('left','TRANS')].unique()"
   ]
  },
  {
   "cell_type": "code",
   "execution_count": 17,
   "metadata": {},
   "outputs": [
    {
     "data": {
      "text/plain": [
       "array([nan, '1.0'], dtype=object)"
      ]
     },
     "execution_count": 17,
     "metadata": {},
     "output_type": "execute_result"
    }
   ],
   "source": [
    "df.loc[:,('right','INFAM')].unique()"
   ]
  },
  {
   "cell_type": "code",
   "execution_count": 18,
   "metadata": {},
   "outputs": [
    {
     "data": {
      "text/plain": [
       "array([nan, '1.0'], dtype=object)"
      ]
     },
     "execution_count": 18,
     "metadata": {},
     "output_type": "execute_result"
    }
   ],
   "source": [
    "df.loc[:,('right','PNAI12')].unique()"
   ]
  },
  {
   "cell_type": "code",
   "execution_count": 128,
   "metadata": {},
   "outputs": [
    {
     "data": {
      "text/plain": [
       "array([nan, '41.0'], dtype=object)"
      ]
     },
     "execution_count": 128,
     "metadata": {},
     "output_type": "execute_result"
    }
   ],
   "source": [
    "df.loc[:,('left','TYPMR')].unique() #for example here there is no rule that contain this attribute \n",
    "#on the right side so i am forced to anlyse it with it being on the left side"
   ]
  },
  {
   "cell_type": "markdown",
   "metadata": {},
   "source": [
    " "
   ]
  },
  {
   "cell_type": "markdown",
   "metadata": {},
   "source": [
    " "
   ]
  },
  {
   "cell_type": "markdown",
   "metadata": {},
   "source": [
    " "
   ]
  },
  {
   "cell_type": "markdown",
   "metadata": {},
   "source": [
    "interested to find characteristics of the people in GrandEst who are born in France métropolitaine et DOM-TOM-COM.\n"
   ]
  },
  {
   "cell_type": "markdown",
   "metadata": {},
   "source": [
    "Selecting the association rules which have only the attribute PNAI12 in the right side of the rule at the same time have the maximum number of attributes to the left side of the rule and also having confidence of 100%, in this way i am able to collect the maximum number of characteristics of the people in GrandEst who are born in France métropolitaine et DOM-TOM-COM .\n",
    "As you can see there are alot in common between the rules.\n"
   ]
  },
  {
   "cell_type": "code",
   "execution_count": 88,
   "metadata": {},
   "outputs": [
    {
     "data": {
      "text/html": [
       "<div>\n",
       "<style scoped>\n",
       "    .dataframe tbody tr th:only-of-type {\n",
       "        vertical-align: middle;\n",
       "    }\n",
       "\n",
       "    .dataframe tbody tr th {\n",
       "        vertical-align: top;\n",
       "    }\n",
       "\n",
       "    .dataframe thead tr th {\n",
       "        text-align: left;\n",
       "    }\n",
       "</style>\n",
       "<table border=\"1\" class=\"dataframe\">\n",
       "  <thead>\n",
       "    <tr>\n",
       "      <th></th>\n",
       "      <th>sup</th>\n",
       "      <th>conf</th>\n",
       "      <th>rule</th>\n",
       "    </tr>\n",
       "    <tr>\n",
       "      <th></th>\n",
       "      <th>sup</th>\n",
       "      <th>conf</th>\n",
       "      <th>rule</th>\n",
       "    </tr>\n",
       "  </thead>\n",
       "  <tbody>\n",
       "    <tr>\n",
       "      <th>84705</th>\n",
       "      <td>383075.0</td>\n",
       "      <td>1.0</td>\n",
       "      <td>('ANARR', 'Z') ('DEROU', 'Z') ('EMPL', 'ZZ') ('ETUD', '2.0') ('ILTUU', 'Z') ('IMMI', '2.0') ('INAT', '11.0') ('NATC', '0.0') ('TRANS', 'Z') ==&gt; ('PNAI12', '1.0')</td>\n",
       "    </tr>\n",
       "    <tr>\n",
       "      <th>85152</th>\n",
       "      <td>421895.0</td>\n",
       "      <td>1.0</td>\n",
       "      <td>('ANARR', 'Z') ('DEROU', 'Z') ('EMPL', 'ZZ') ('GARL', '1.0') ('ILTUU', 'Z') ('IMMI', '2.0') ('INAT', '11.0') ('NATC', '0.0') ('TRANS', 'Z') ==&gt; ('PNAI12', '1.0')</td>\n",
       "    </tr>\n",
       "    <tr>\n",
       "      <th>85599</th>\n",
       "      <td>484390.0</td>\n",
       "      <td>1.0</td>\n",
       "      <td>('ANARR', 'Z') ('DEROU', 'Z') ('EMPL', 'ZZ') ('ILTUU', 'Z') ('IMMI', '2.0') ('INAT', '11.0') ('INFAM', '1.0') ('NATC', '0.0') ('TRANS', 'Z') ==&gt; ('PNAI12', '1.0')</td>\n",
       "    </tr>\n",
       "  </tbody>\n",
       "</table>\n",
       "</div>"
      ],
      "text/plain": [
       "            sup conf  \\\n",
       "            sup conf   \n",
       "84705  383075.0  1.0   \n",
       "85152  421895.0  1.0   \n",
       "85599  484390.0  1.0   \n",
       "\n",
       "                                                                                                                                                                      rule  \n",
       "                                                                                                                                                                      rule  \n",
       "84705   ('ANARR', 'Z') ('DEROU', 'Z') ('EMPL', 'ZZ') ('ETUD', '2.0') ('ILTUU', 'Z') ('IMMI', '2.0') ('INAT', '11.0') ('NATC', '0.0') ('TRANS', 'Z') ==> ('PNAI12', '1.0')   \n",
       "85152   ('ANARR', 'Z') ('DEROU', 'Z') ('EMPL', 'ZZ') ('GARL', '1.0') ('ILTUU', 'Z') ('IMMI', '2.0') ('INAT', '11.0') ('NATC', '0.0') ('TRANS', 'Z') ==> ('PNAI12', '1.0')   \n",
       "85599  ('ANARR', 'Z') ('DEROU', 'Z') ('EMPL', 'ZZ') ('ILTUU', 'Z') ('IMMI', '2.0') ('INAT', '11.0') ('INFAM', '1.0') ('NATC', '0.0') ('TRANS', 'Z') ==> ('PNAI12', '1.0')   "
      ]
     },
     "execution_count": 88,
     "metadata": {},
     "output_type": "execute_result"
    }
   ],
   "source": [
    "df_rule1=df[np.logical_and(np.logical_and(np.logical_and(df.loc[:,('conf','conf')]==1,\n",
    "                                                np.logical_not(df.loc[:,('right','PNAI12')].isnull()))\n",
    "                                 ,df.right_length==1),df[\"left_length\"]==df[\"left_length\"].max())].loc[:,[(\"sup\",\"sup\"),(\"conf\",\"conf\"),(\"rule\",\"rule\")]]\n",
    "df_rule1\n"
   ]
  },
  {
   "cell_type": "markdown",
   "metadata": {},
   "source": [
    "since there are 3 different rules its best to select the one with highest support"
   ]
  },
  {
   "cell_type": "markdown",
   "metadata": {},
   "source": [
    "('ANARR', 'Z') ('DEROU', 'Z') ('EMPL', 'ZZ') ('ILTUU', 'Z') ('IMMI', '2.0') ('INAT', '11.0') ('INFAM', '1.0') ('NATC', '0.0') ('TRANS', 'Z') ==> ('PNAI12', '1.0')\n",
    "\n",
    "\n",
    "we get not very useful information from this, its just that people who are french by birth and not immigrants are born in Frane metroplotaine, which is something logical.And also with INFAM=1 states that there is one family in the household of those people.\n",
    "but taking the first one with less support indicates that those who are not registered in an educational insitute are born in France metropolitaine."
   ]
  },
  {
   "cell_type": "markdown",
   "metadata": {},
   "source": [
    "  "
   ]
  },
  {
   "cell_type": "markdown",
   "metadata": {},
   "source": [
    " "
   ]
  },
  {
   "cell_type": "markdown",
   "metadata": {},
   "source": [
    " "
   ]
  },
  {
   "cell_type": "markdown",
   "metadata": {},
   "source": [
    " Also i am interested to find the characteristics of the people who uses the car i.e TRANS=4 as a Main mode of transport most often used for going to work "
   ]
  },
  {
   "cell_type": "markdown",
   "metadata": {},
   "source": [
    " "
   ]
  },
  {
   "cell_type": "markdown",
   "metadata": {},
   "source": [
    " "
   ]
  },
  {
   "cell_type": "markdown",
   "metadata": {},
   "source": [
    " "
   ]
  },
  {
   "cell_type": "code",
   "execution_count": 126,
   "metadata": {},
   "outputs": [
    {
     "data": {
      "text/html": [
       "<div>\n",
       "<style scoped>\n",
       "    .dataframe tbody tr th:only-of-type {\n",
       "        vertical-align: middle;\n",
       "    }\n",
       "\n",
       "    .dataframe tbody tr th {\n",
       "        vertical-align: top;\n",
       "    }\n",
       "\n",
       "    .dataframe thead tr th {\n",
       "        text-align: left;\n",
       "    }\n",
       "</style>\n",
       "<table border=\"1\" class=\"dataframe\">\n",
       "  <thead>\n",
       "    <tr>\n",
       "      <th></th>\n",
       "      <th colspan=\"18\" halign=\"left\">left</th>\n",
       "      <th colspan=\"14\" halign=\"left\">right</th>\n",
       "      <th>sup</th>\n",
       "      <th>conf</th>\n",
       "      <th>rule</th>\n",
       "      <th>right_length</th>\n",
       "      <th>left_length</th>\n",
       "    </tr>\n",
       "    <tr>\n",
       "      <th></th>\n",
       "      <th>ANARR</th>\n",
       "      <th>DEROU</th>\n",
       "      <th>EMPL</th>\n",
       "      <th>ETUD</th>\n",
       "      <th>GARL</th>\n",
       "      <th>ILTUU</th>\n",
       "      <th>IMMI</th>\n",
       "      <th>INAT</th>\n",
       "      <th>INFAM</th>\n",
       "      <th>NATC</th>\n",
       "      <th>RECH</th>\n",
       "      <th>TACT</th>\n",
       "      <th>VOIT</th>\n",
       "      <th>TYPMR</th>\n",
       "      <th>TRANS</th>\n",
       "      <th>PNAI12</th>\n",
       "      <th>CS2</th>\n",
       "      <th>TYPL</th>\n",
       "      <th>ANARR</th>\n",
       "      <th>DEROU</th>\n",
       "      <th>EMPL</th>\n",
       "      <th>ETUD</th>\n",
       "      <th>GARL</th>\n",
       "      <th>ILTUU</th>\n",
       "      <th>IMMI</th>\n",
       "      <th>INAT</th>\n",
       "      <th>INFAM</th>\n",
       "      <th>NATC</th>\n",
       "      <th>RECH</th>\n",
       "      <th>TACT</th>\n",
       "      <th>TRANS</th>\n",
       "      <th>PNAI12</th>\n",
       "      <th>sup</th>\n",
       "      <th>conf</th>\n",
       "      <th>rule</th>\n",
       "      <th></th>\n",
       "      <th></th>\n",
       "    </tr>\n",
       "  </thead>\n",
       "  <tbody>\n",
       "    <tr>\n",
       "      <th>43</th>\n",
       "      <td>NaN</td>\n",
       "      <td>NaN</td>\n",
       "      <td>NaN</td>\n",
       "      <td>NaN</td>\n",
       "      <td>NaN</td>\n",
       "      <td>NaN</td>\n",
       "      <td>NaN</td>\n",
       "      <td>NaN</td>\n",
       "      <td>NaN</td>\n",
       "      <td>NaN</td>\n",
       "      <td>NaN</td>\n",
       "      <td>NaN</td>\n",
       "      <td>NaN</td>\n",
       "      <td>NaN</td>\n",
       "      <td>4</td>\n",
       "      <td>NaN</td>\n",
       "      <td>NaN</td>\n",
       "      <td>NaN</td>\n",
       "      <td>NaN</td>\n",
       "      <td>Z</td>\n",
       "      <td>NaN</td>\n",
       "      <td>NaN</td>\n",
       "      <td>NaN</td>\n",
       "      <td>NaN</td>\n",
       "      <td>NaN</td>\n",
       "      <td>NaN</td>\n",
       "      <td>NaN</td>\n",
       "      <td>NaN</td>\n",
       "      <td>NaN</td>\n",
       "      <td>NaN</td>\n",
       "      <td>NaN</td>\n",
       "      <td>NaN</td>\n",
       "      <td>370098.0</td>\n",
       "      <td>1.0</td>\n",
       "      <td>('TRANS', '4') ==&gt; ('DEROU', 'Z')</td>\n",
       "      <td>1</td>\n",
       "      <td>1</td>\n",
       "    </tr>\n",
       "    <tr>\n",
       "      <th>128</th>\n",
       "      <td>NaN</td>\n",
       "      <td>NaN</td>\n",
       "      <td>NaN</td>\n",
       "      <td>NaN</td>\n",
       "      <td>NaN</td>\n",
       "      <td>NaN</td>\n",
       "      <td>NaN</td>\n",
       "      <td>NaN</td>\n",
       "      <td>NaN</td>\n",
       "      <td>NaN</td>\n",
       "      <td>NaN</td>\n",
       "      <td>NaN</td>\n",
       "      <td>NaN</td>\n",
       "      <td>NaN</td>\n",
       "      <td>4</td>\n",
       "      <td>NaN</td>\n",
       "      <td>NaN</td>\n",
       "      <td>NaN</td>\n",
       "      <td>NaN</td>\n",
       "      <td>NaN</td>\n",
       "      <td>NaN</td>\n",
       "      <td>NaN</td>\n",
       "      <td>NaN</td>\n",
       "      <td>NaN</td>\n",
       "      <td>NaN</td>\n",
       "      <td>NaN</td>\n",
       "      <td>NaN</td>\n",
       "      <td>NaN</td>\n",
       "      <td>Z</td>\n",
       "      <td>NaN</td>\n",
       "      <td>NaN</td>\n",
       "      <td>NaN</td>\n",
       "      <td>370098.0</td>\n",
       "      <td>1.0</td>\n",
       "      <td>('TRANS', '4') ==&gt; ('RECH', 'Z')</td>\n",
       "      <td>1</td>\n",
       "      <td>1</td>\n",
       "    </tr>\n",
       "    <tr>\n",
       "      <th>130</th>\n",
       "      <td>NaN</td>\n",
       "      <td>NaN</td>\n",
       "      <td>NaN</td>\n",
       "      <td>NaN</td>\n",
       "      <td>NaN</td>\n",
       "      <td>NaN</td>\n",
       "      <td>NaN</td>\n",
       "      <td>NaN</td>\n",
       "      <td>NaN</td>\n",
       "      <td>NaN</td>\n",
       "      <td>NaN</td>\n",
       "      <td>NaN</td>\n",
       "      <td>NaN</td>\n",
       "      <td>NaN</td>\n",
       "      <td>4</td>\n",
       "      <td>NaN</td>\n",
       "      <td>NaN</td>\n",
       "      <td>NaN</td>\n",
       "      <td>NaN</td>\n",
       "      <td>NaN</td>\n",
       "      <td>NaN</td>\n",
       "      <td>NaN</td>\n",
       "      <td>NaN</td>\n",
       "      <td>NaN</td>\n",
       "      <td>NaN</td>\n",
       "      <td>NaN</td>\n",
       "      <td>NaN</td>\n",
       "      <td>NaN</td>\n",
       "      <td>NaN</td>\n",
       "      <td>11.0</td>\n",
       "      <td>NaN</td>\n",
       "      <td>NaN</td>\n",
       "      <td>370098.0</td>\n",
       "      <td>1.0</td>\n",
       "      <td>('TRANS', '4') ==&gt; ('TACT', '11.0')</td>\n",
       "      <td>1</td>\n",
       "      <td>1</td>\n",
       "    </tr>\n",
       "    <tr>\n",
       "      <th>698</th>\n",
       "      <td>NaN</td>\n",
       "      <td>NaN</td>\n",
       "      <td>NaN</td>\n",
       "      <td>NaN</td>\n",
       "      <td>NaN</td>\n",
       "      <td>NaN</td>\n",
       "      <td>NaN</td>\n",
       "      <td>NaN</td>\n",
       "      <td>NaN</td>\n",
       "      <td>NaN</td>\n",
       "      <td>NaN</td>\n",
       "      <td>NaN</td>\n",
       "      <td>NaN</td>\n",
       "      <td>NaN</td>\n",
       "      <td>4</td>\n",
       "      <td>NaN</td>\n",
       "      <td>NaN</td>\n",
       "      <td>NaN</td>\n",
       "      <td>NaN</td>\n",
       "      <td>Z</td>\n",
       "      <td>NaN</td>\n",
       "      <td>NaN</td>\n",
       "      <td>NaN</td>\n",
       "      <td>NaN</td>\n",
       "      <td>NaN</td>\n",
       "      <td>NaN</td>\n",
       "      <td>NaN</td>\n",
       "      <td>NaN</td>\n",
       "      <td>Z</td>\n",
       "      <td>NaN</td>\n",
       "      <td>NaN</td>\n",
       "      <td>NaN</td>\n",
       "      <td>370098.0</td>\n",
       "      <td>1.0</td>\n",
       "      <td>('TRANS', '4') ==&gt; ('DEROU', 'Z') ('RECH', 'Z')</td>\n",
       "      <td>2</td>\n",
       "      <td>1</td>\n",
       "    </tr>\n",
       "    <tr>\n",
       "      <th>705</th>\n",
       "      <td>NaN</td>\n",
       "      <td>NaN</td>\n",
       "      <td>NaN</td>\n",
       "      <td>NaN</td>\n",
       "      <td>NaN</td>\n",
       "      <td>NaN</td>\n",
       "      <td>NaN</td>\n",
       "      <td>NaN</td>\n",
       "      <td>NaN</td>\n",
       "      <td>NaN</td>\n",
       "      <td>NaN</td>\n",
       "      <td>NaN</td>\n",
       "      <td>NaN</td>\n",
       "      <td>NaN</td>\n",
       "      <td>4</td>\n",
       "      <td>NaN</td>\n",
       "      <td>NaN</td>\n",
       "      <td>NaN</td>\n",
       "      <td>NaN</td>\n",
       "      <td>Z</td>\n",
       "      <td>NaN</td>\n",
       "      <td>NaN</td>\n",
       "      <td>NaN</td>\n",
       "      <td>NaN</td>\n",
       "      <td>NaN</td>\n",
       "      <td>NaN</td>\n",
       "      <td>NaN</td>\n",
       "      <td>NaN</td>\n",
       "      <td>NaN</td>\n",
       "      <td>11.0</td>\n",
       "      <td>NaN</td>\n",
       "      <td>NaN</td>\n",
       "      <td>370098.0</td>\n",
       "      <td>1.0</td>\n",
       "      <td>('TRANS', '4') ==&gt; ('DEROU', 'Z') ('TACT', '11.0')</td>\n",
       "      <td>2</td>\n",
       "      <td>1</td>\n",
       "    </tr>\n",
       "    <tr>\n",
       "      <th>1264</th>\n",
       "      <td>NaN</td>\n",
       "      <td>NaN</td>\n",
       "      <td>NaN</td>\n",
       "      <td>NaN</td>\n",
       "      <td>NaN</td>\n",
       "      <td>NaN</td>\n",
       "      <td>NaN</td>\n",
       "      <td>NaN</td>\n",
       "      <td>NaN</td>\n",
       "      <td>NaN</td>\n",
       "      <td>NaN</td>\n",
       "      <td>NaN</td>\n",
       "      <td>NaN</td>\n",
       "      <td>NaN</td>\n",
       "      <td>4</td>\n",
       "      <td>NaN</td>\n",
       "      <td>NaN</td>\n",
       "      <td>NaN</td>\n",
       "      <td>NaN</td>\n",
       "      <td>NaN</td>\n",
       "      <td>NaN</td>\n",
       "      <td>NaN</td>\n",
       "      <td>NaN</td>\n",
       "      <td>NaN</td>\n",
       "      <td>NaN</td>\n",
       "      <td>NaN</td>\n",
       "      <td>NaN</td>\n",
       "      <td>NaN</td>\n",
       "      <td>Z</td>\n",
       "      <td>11.0</td>\n",
       "      <td>NaN</td>\n",
       "      <td>NaN</td>\n",
       "      <td>370098.0</td>\n",
       "      <td>1.0</td>\n",
       "      <td>('TRANS', '4') ==&gt; ('RECH', 'Z') ('TACT', '11.0')</td>\n",
       "      <td>2</td>\n",
       "      <td>1</td>\n",
       "    </tr>\n",
       "    <tr>\n",
       "      <th>4306</th>\n",
       "      <td>NaN</td>\n",
       "      <td>NaN</td>\n",
       "      <td>NaN</td>\n",
       "      <td>NaN</td>\n",
       "      <td>NaN</td>\n",
       "      <td>NaN</td>\n",
       "      <td>NaN</td>\n",
       "      <td>NaN</td>\n",
       "      <td>NaN</td>\n",
       "      <td>NaN</td>\n",
       "      <td>NaN</td>\n",
       "      <td>NaN</td>\n",
       "      <td>NaN</td>\n",
       "      <td>NaN</td>\n",
       "      <td>4</td>\n",
       "      <td>NaN</td>\n",
       "      <td>NaN</td>\n",
       "      <td>NaN</td>\n",
       "      <td>NaN</td>\n",
       "      <td>Z</td>\n",
       "      <td>NaN</td>\n",
       "      <td>NaN</td>\n",
       "      <td>NaN</td>\n",
       "      <td>NaN</td>\n",
       "      <td>NaN</td>\n",
       "      <td>NaN</td>\n",
       "      <td>NaN</td>\n",
       "      <td>NaN</td>\n",
       "      <td>Z</td>\n",
       "      <td>11.0</td>\n",
       "      <td>NaN</td>\n",
       "      <td>NaN</td>\n",
       "      <td>370098.0</td>\n",
       "      <td>1.0</td>\n",
       "      <td>('TRANS', '4') ==&gt; ('DEROU', 'Z') ('RECH', 'Z') ('TACT', '11.0')</td>\n",
       "      <td>3</td>\n",
       "      <td>1</td>\n",
       "    </tr>\n",
       "  </tbody>\n",
       "</table>\n",
       "</div>"
      ],
      "text/plain": [
       "      left                                                                 \\\n",
       "     ANARR DEROU EMPL ETUD GARL ILTUU IMMI INAT INFAM NATC RECH TACT VOIT   \n",
       "43     NaN   NaN  NaN  NaN  NaN   NaN  NaN  NaN   NaN  NaN  NaN  NaN  NaN   \n",
       "128    NaN   NaN  NaN  NaN  NaN   NaN  NaN  NaN   NaN  NaN  NaN  NaN  NaN   \n",
       "130    NaN   NaN  NaN  NaN  NaN   NaN  NaN  NaN   NaN  NaN  NaN  NaN  NaN   \n",
       "698    NaN   NaN  NaN  NaN  NaN   NaN  NaN  NaN   NaN  NaN  NaN  NaN  NaN   \n",
       "705    NaN   NaN  NaN  NaN  NaN   NaN  NaN  NaN   NaN  NaN  NaN  NaN  NaN   \n",
       "1264   NaN   NaN  NaN  NaN  NaN   NaN  NaN  NaN   NaN  NaN  NaN  NaN  NaN   \n",
       "4306   NaN   NaN  NaN  NaN  NaN   NaN  NaN  NaN   NaN  NaN  NaN  NaN  NaN   \n",
       "\n",
       "                                  right                                       \\\n",
       "     TYPMR TRANS PNAI12  CS2 TYPL ANARR DEROU EMPL ETUD GARL ILTUU IMMI INAT   \n",
       "43     NaN     4    NaN  NaN  NaN   NaN     Z  NaN  NaN  NaN   NaN  NaN  NaN   \n",
       "128    NaN     4    NaN  NaN  NaN   NaN   NaN  NaN  NaN  NaN   NaN  NaN  NaN   \n",
       "130    NaN     4    NaN  NaN  NaN   NaN   NaN  NaN  NaN  NaN   NaN  NaN  NaN   \n",
       "698    NaN     4    NaN  NaN  NaN   NaN     Z  NaN  NaN  NaN   NaN  NaN  NaN   \n",
       "705    NaN     4    NaN  NaN  NaN   NaN     Z  NaN  NaN  NaN   NaN  NaN  NaN   \n",
       "1264   NaN     4    NaN  NaN  NaN   NaN   NaN  NaN  NaN  NaN   NaN  NaN  NaN   \n",
       "4306   NaN     4    NaN  NaN  NaN   NaN     Z  NaN  NaN  NaN   NaN  NaN  NaN   \n",
       "\n",
       "                                              sup conf  \\\n",
       "     INFAM NATC RECH  TACT TRANS PNAI12       sup conf   \n",
       "43     NaN  NaN  NaN   NaN   NaN    NaN  370098.0  1.0   \n",
       "128    NaN  NaN    Z   NaN   NaN    NaN  370098.0  1.0   \n",
       "130    NaN  NaN  NaN  11.0   NaN    NaN  370098.0  1.0   \n",
       "698    NaN  NaN    Z   NaN   NaN    NaN  370098.0  1.0   \n",
       "705    NaN  NaN  NaN  11.0   NaN    NaN  370098.0  1.0   \n",
       "1264   NaN  NaN    Z  11.0   NaN    NaN  370098.0  1.0   \n",
       "4306   NaN  NaN    Z  11.0   NaN    NaN  370098.0  1.0   \n",
       "\n",
       "                                                                   rule  \\\n",
       "                                                                   rule   \n",
       "43                                   ('TRANS', '4') ==> ('DEROU', 'Z')    \n",
       "128                                   ('TRANS', '4') ==> ('RECH', 'Z')    \n",
       "130                                ('TRANS', '4') ==> ('TACT', '11.0')    \n",
       "698                    ('TRANS', '4') ==> ('DEROU', 'Z') ('RECH', 'Z')    \n",
       "705                 ('TRANS', '4') ==> ('DEROU', 'Z') ('TACT', '11.0')    \n",
       "1264                 ('TRANS', '4') ==> ('RECH', 'Z') ('TACT', '11.0')    \n",
       "4306  ('TRANS', '4') ==> ('DEROU', 'Z') ('RECH', 'Z') ('TACT', '11.0')    \n",
       "\n",
       "     right_length left_length  \n",
       "                               \n",
       "43              1           1  \n",
       "128             1           1  \n",
       "130             1           1  \n",
       "698             2           1  \n",
       "705             2           1  \n",
       "1264            2           1  \n",
       "4306            3           1  "
      ]
     },
     "execution_count": 126,
     "metadata": {},
     "output_type": "execute_result"
    }
   ],
   "source": [
    "\n",
    "df_rule2=df[np.logical_and(np.logical_and(df.loc[:,('conf','conf')]==1,df.loc[:,('left','TRANS')]=='4'),df.left_length==1)]\n",
    "df_rule2"
   ]
  },
  {
   "cell_type": "markdown",
   "metadata": {},
   "source": [
    "last one it the longest in the right side"
   ]
  },
  {
   "cell_type": "code",
   "execution_count": 124,
   "metadata": {},
   "outputs": [
    {
     "data": {
      "text/html": [
       "<div>\n",
       "<style scoped>\n",
       "    .dataframe tbody tr th:only-of-type {\n",
       "        vertical-align: middle;\n",
       "    }\n",
       "\n",
       "    .dataframe tbody tr th {\n",
       "        vertical-align: top;\n",
       "    }\n",
       "\n",
       "    .dataframe thead tr th {\n",
       "        text-align: left;\n",
       "    }\n",
       "</style>\n",
       "<table border=\"1\" class=\"dataframe\">\n",
       "  <thead>\n",
       "    <tr>\n",
       "      <th></th>\n",
       "      <th>sup</th>\n",
       "      <th>conf</th>\n",
       "      <th>rule</th>\n",
       "    </tr>\n",
       "    <tr>\n",
       "      <th></th>\n",
       "      <th>sup</th>\n",
       "      <th>conf</th>\n",
       "      <th>rule</th>\n",
       "    </tr>\n",
       "  </thead>\n",
       "  <tbody>\n",
       "    <tr>\n",
       "      <th>4306</th>\n",
       "      <td>370098.0</td>\n",
       "      <td>1.0</td>\n",
       "      <td>('TRANS', '4') ==&gt; ('DEROU', 'Z') ('RECH', 'Z') ('TACT', '11.0')</td>\n",
       "    </tr>\n",
       "  </tbody>\n",
       "</table>\n",
       "</div>"
      ],
      "text/plain": [
       "           sup conf  \\\n",
       "           sup conf   \n",
       "4306  370098.0  1.0   \n",
       "\n",
       "                                                                   rule  \n",
       "                                                                   rule  \n",
       "4306  ('TRANS', '4') ==> ('DEROU', 'Z') ('RECH', 'Z') ('TACT', '11.0')   "
      ]
     },
     "execution_count": 124,
     "metadata": {},
     "output_type": "execute_result"
    }
   ],
   "source": [
    "df[np.logical_and(np.logical_and(df.loc[:,('conf','conf')]==1,df.loc[:,('left','TRANS')]=='4'),df.left_length==1)].loc[:,[(\"sup\",\"sup\"),(\"conf\",\"conf\"),(\"rule\",\"rule\")]].tail(1)"
   ]
  },
  {
   "cell_type": "markdown",
   "metadata": {},
   "source": [
    "so , the people who use the car for going to work are employed people either in real job or internship.."
   ]
  },
  {
   "cell_type": "markdown",
   "metadata": {},
   "source": [
    " "
   ]
  },
  {
   "cell_type": "markdown",
   "metadata": {},
   "source": [
    " "
   ]
  },
  {
   "cell_type": "markdown",
   "metadata": {},
   "source": [
    " "
   ]
  },
  {
   "cell_type": "markdown",
   "metadata": {},
   "source": [
    "TYPMR attribute study the type of household of people "
   ]
  },
  {
   "cell_type": "code",
   "execution_count": 140,
   "metadata": {},
   "outputs": [
    {
     "data": {
      "text/html": [
       "<div>\n",
       "<style scoped>\n",
       "    .dataframe tbody tr th:only-of-type {\n",
       "        vertical-align: middle;\n",
       "    }\n",
       "\n",
       "    .dataframe tbody tr th {\n",
       "        vertical-align: top;\n",
       "    }\n",
       "\n",
       "    .dataframe thead tr th {\n",
       "        text-align: left;\n",
       "    }\n",
       "</style>\n",
       "<table border=\"1\" class=\"dataframe\">\n",
       "  <thead>\n",
       "    <tr>\n",
       "      <th></th>\n",
       "      <th>sup</th>\n",
       "      <th>conf</th>\n",
       "      <th>rule</th>\n",
       "    </tr>\n",
       "    <tr>\n",
       "      <th></th>\n",
       "      <th>sup</th>\n",
       "      <th>conf</th>\n",
       "      <th>rule</th>\n",
       "    </tr>\n",
       "  </thead>\n",
       "  <tbody>\n",
       "    <tr>\n",
       "      <th>47576</th>\n",
       "      <td>367805.0</td>\n",
       "      <td>1.0</td>\n",
       "      <td>('ANARR', 'Z') ('INAT', '11.0') ('TYPMR', '41.0') ==&gt; ('DEROU', 'Z') ('IMMI', '2.0') ('NATC', '0.0') ('PNAI12', '1.0')</td>\n",
       "    </tr>\n",
       "  </tbody>\n",
       "</table>\n",
       "</div>"
      ],
      "text/plain": [
       "            sup conf  \\\n",
       "            sup conf   \n",
       "47576  367805.0  1.0   \n",
       "\n",
       "                                                                                                                          rule  \n",
       "                                                                                                                          rule  \n",
       "47576  ('ANARR', 'Z') ('INAT', '11.0') ('TYPMR', '41.0') ==> ('DEROU', 'Z') ('IMMI', '2.0') ('NATC', '0.0') ('PNAI12', '1.0')   "
      ]
     },
     "execution_count": 140,
     "metadata": {},
     "output_type": "execute_result"
    }
   ],
   "source": [
    "df_rule3=df[np.logical_and(np.logical_and(df.loc[:,('conf','conf')]==1,df.loc[:,('left','TYPMR')]=='41.0'),df.left_length>1)].loc[:,[(\"sup\",\"sup\"),(\"conf\",\"conf\"),(\"rule\",\"rule\")]]\n",
    "df_rule3.tail(1)"
   ]
  },
  {
   "cell_type": "markdown",
   "metadata": {},
   "source": [
    "this shows that non immigrant families, but totally french ones are composed of a couple where only one man has the status of 'active with employment'"
   ]
  },
  {
   "cell_type": "markdown",
   "metadata": {},
   "source": [
    " "
   ]
  },
  {
   "cell_type": "markdown",
   "metadata": {},
   "source": [
    " "
   ]
  },
  {
   "cell_type": "markdown",
   "metadata": {},
   "source": [
    "VOIT attribute"
   ]
  },
  {
   "cell_type": "code",
   "execution_count": 145,
   "metadata": {},
   "outputs": [
    {
     "data": {
      "text/html": [
       "<div>\n",
       "<style scoped>\n",
       "    .dataframe tbody tr th:only-of-type {\n",
       "        vertical-align: middle;\n",
       "    }\n",
       "\n",
       "    .dataframe tbody tr th {\n",
       "        vertical-align: top;\n",
       "    }\n",
       "\n",
       "    .dataframe thead tr th {\n",
       "        text-align: left;\n",
       "    }\n",
       "</style>\n",
       "<table border=\"1\" class=\"dataframe\">\n",
       "  <thead>\n",
       "    <tr>\n",
       "      <th></th>\n",
       "      <th>sup</th>\n",
       "      <th>conf</th>\n",
       "      <th>rule</th>\n",
       "    </tr>\n",
       "    <tr>\n",
       "      <th></th>\n",
       "      <th>sup</th>\n",
       "      <th>conf</th>\n",
       "      <th>rule</th>\n",
       "    </tr>\n",
       "  </thead>\n",
       "  <tbody>\n",
       "    <tr>\n",
       "      <th>179</th>\n",
       "      <td>438728.0</td>\n",
       "      <td>1.0</td>\n",
       "      <td>('ANARR', 'Z') ('VOIT', '1.0') ==&gt; ('DEROU', 'Z')</td>\n",
       "    </tr>\n",
       "    <tr>\n",
       "      <th>182</th>\n",
       "      <td>411783.0</td>\n",
       "      <td>1.0</td>\n",
       "      <td>('ANARR', 'Z') ('VOIT', '2.0') ==&gt; ('DEROU', 'Z')</td>\n",
       "    </tr>\n",
       "    <tr>\n",
       "      <th>307</th>\n",
       "      <td>438728.0</td>\n",
       "      <td>1.0</td>\n",
       "      <td>('ANARR', 'Z') ('VOIT', '1.0') ==&gt; ('IMMI', '2.0')</td>\n",
       "    </tr>\n",
       "    <tr>\n",
       "      <th>310</th>\n",
       "      <td>411783.0</td>\n",
       "      <td>1.0</td>\n",
       "      <td>('ANARR', 'Z') ('VOIT', '2.0') ==&gt; ('IMMI', '2.0')</td>\n",
       "    </tr>\n",
       "    <tr>\n",
       "      <th>424</th>\n",
       "      <td>438728.0</td>\n",
       "      <td>1.0</td>\n",
       "      <td>('VOIT', '1.0') ('PNAI12', '1.0') ==&gt; ('ANARR', 'Z')</td>\n",
       "    </tr>\n",
       "    <tr>\n",
       "      <th>...</th>\n",
       "      <td>...</td>\n",
       "      <td>...</td>\n",
       "      <td>...</td>\n",
       "    </tr>\n",
       "    <tr>\n",
       "      <th>70844</th>\n",
       "      <td>389488.0</td>\n",
       "      <td>1.0</td>\n",
       "      <td>('ANARR', 'Z') ('DEROU', 'Z') ('INAT', '11.0') ('INFAM', '1.0') ('VOIT', '2.0') ==&gt; ('IMMI', '2.0') ('NATC', '0.0') ('PNAI12', '1.0')</td>\n",
       "    </tr>\n",
       "    <tr>\n",
       "      <th>70849</th>\n",
       "      <td>389488.0</td>\n",
       "      <td>1.0</td>\n",
       "      <td>('INFAM', '1.0') ('NATC', '0.0') ('VOIT', '2.0') ('PNAI12', '1.0') ==&gt; ('ANARR', 'Z') ('DEROU', 'Z') ('IMMI', '2.0') ('INAT', '11.0')</td>\n",
       "    </tr>\n",
       "    <tr>\n",
       "      <th>70851</th>\n",
       "      <td>389488.0</td>\n",
       "      <td>1.0</td>\n",
       "      <td>('INAT', '11.0') ('INFAM', '1.0') ('VOIT', '2.0') ('PNAI12', '1.0') ==&gt; ('ANARR', 'Z') ('DEROU', 'Z') ('IMMI', '2.0') ('NATC', '0.0')</td>\n",
       "    </tr>\n",
       "    <tr>\n",
       "      <th>70871</th>\n",
       "      <td>389488.0</td>\n",
       "      <td>1.0</td>\n",
       "      <td>('ANARR', 'Z') ('INFAM', '1.0') ('NATC', '0.0') ('VOIT', '2.0') ==&gt; ('DEROU', 'Z') ('IMMI', '2.0') ('INAT', '11.0') ('PNAI12', '1.0')</td>\n",
       "    </tr>\n",
       "    <tr>\n",
       "      <th>70874</th>\n",
       "      <td>389488.0</td>\n",
       "      <td>1.0</td>\n",
       "      <td>('ANARR', 'Z') ('INAT', '11.0') ('INFAM', '1.0') ('VOIT', '2.0') ==&gt; ('DEROU', 'Z') ('IMMI', '2.0') ('NATC', '0.0') ('PNAI12', '1.0')</td>\n",
       "    </tr>\n",
       "  </tbody>\n",
       "</table>\n",
       "<p>771 rows × 3 columns</p>\n",
       "</div>"
      ],
      "text/plain": [
       "            sup conf  \\\n",
       "            sup conf   \n",
       "179    438728.0  1.0   \n",
       "182    411783.0  1.0   \n",
       "307    438728.0  1.0   \n",
       "310    411783.0  1.0   \n",
       "424    438728.0  1.0   \n",
       "...         ...  ...   \n",
       "70844  389488.0  1.0   \n",
       "70849  389488.0  1.0   \n",
       "70851  389488.0  1.0   \n",
       "70871  389488.0  1.0   \n",
       "70874  389488.0  1.0   \n",
       "\n",
       "                                                                                                                                         rule  \n",
       "                                                                                                                                         rule  \n",
       "179                                                                                        ('ANARR', 'Z') ('VOIT', '1.0') ==> ('DEROU', 'Z')   \n",
       "182                                                                                        ('ANARR', 'Z') ('VOIT', '2.0') ==> ('DEROU', 'Z')   \n",
       "307                                                                                       ('ANARR', 'Z') ('VOIT', '1.0') ==> ('IMMI', '2.0')   \n",
       "310                                                                                       ('ANARR', 'Z') ('VOIT', '2.0') ==> ('IMMI', '2.0')   \n",
       "424                                                                                     ('VOIT', '1.0') ('PNAI12', '1.0') ==> ('ANARR', 'Z')   \n",
       "...                                                                                                                                       ...  \n",
       "70844  ('ANARR', 'Z') ('DEROU', 'Z') ('INAT', '11.0') ('INFAM', '1.0') ('VOIT', '2.0') ==> ('IMMI', '2.0') ('NATC', '0.0') ('PNAI12', '1.0')   \n",
       "70849  ('INFAM', '1.0') ('NATC', '0.0') ('VOIT', '2.0') ('PNAI12', '1.0') ==> ('ANARR', 'Z') ('DEROU', 'Z') ('IMMI', '2.0') ('INAT', '11.0')   \n",
       "70851  ('INAT', '11.0') ('INFAM', '1.0') ('VOIT', '2.0') ('PNAI12', '1.0') ==> ('ANARR', 'Z') ('DEROU', 'Z') ('IMMI', '2.0') ('NATC', '0.0')   \n",
       "70871  ('ANARR', 'Z') ('INFAM', '1.0') ('NATC', '0.0') ('VOIT', '2.0') ==> ('DEROU', 'Z') ('IMMI', '2.0') ('INAT', '11.0') ('PNAI12', '1.0')   \n",
       "70874  ('ANARR', 'Z') ('INAT', '11.0') ('INFAM', '1.0') ('VOIT', '2.0') ==> ('DEROU', 'Z') ('IMMI', '2.0') ('NATC', '0.0') ('PNAI12', '1.0')   \n",
       "\n",
       "[771 rows x 3 columns]"
      ]
     },
     "execution_count": 145,
     "metadata": {},
     "output_type": "execute_result"
    }
   ],
   "source": [
    "df_rule4=df[np.logical_and(np.logical_and(df.loc[:,('conf','conf')]==1,np.logical_not(df.loc[:,('left','VOIT')].isnull())),df.left_length>1)].loc[:,[(\"sup\",\"sup\"),(\"conf\",\"conf\"),(\"rule\",\"rule\")]]\n",
    "df_rule4"
   ]
  },
  {
   "cell_type": "markdown",
   "metadata": {},
   "source": [
    "as usuall all about french people, so french people have 2 cars per household"
   ]
  },
  {
   "cell_type": "markdown",
   "metadata": {},
   "source": [
    "\n",
    "\n"
   ]
  },
  {
   "cell_type": "markdown",
   "metadata": {},
   "source": [
    "\n"
   ]
  },
  {
   "cell_type": "markdown",
   "metadata": {},
   "source": [
    "\n"
   ]
  },
  {
   "cell_type": "markdown",
   "metadata": {},
   "source": [
    "INFAM attribute"
   ]
  },
  {
   "cell_type": "code",
   "execution_count": 157,
   "metadata": {},
   "outputs": [
    {
     "data": {
      "text/html": [
       "<div>\n",
       "<style scoped>\n",
       "    .dataframe tbody tr th:only-of-type {\n",
       "        vertical-align: middle;\n",
       "    }\n",
       "\n",
       "    .dataframe tbody tr th {\n",
       "        vertical-align: top;\n",
       "    }\n",
       "\n",
       "    .dataframe thead tr th {\n",
       "        text-align: left;\n",
       "    }\n",
       "</style>\n",
       "<table border=\"1\" class=\"dataframe\">\n",
       "  <thead>\n",
       "    <tr>\n",
       "      <th></th>\n",
       "      <th>sup</th>\n",
       "      <th>conf</th>\n",
       "      <th>rule</th>\n",
       "    </tr>\n",
       "    <tr>\n",
       "      <th></th>\n",
       "      <th>sup</th>\n",
       "      <th>conf</th>\n",
       "      <th>rule</th>\n",
       "    </tr>\n",
       "  </thead>\n",
       "  <tbody>\n",
       "    <tr>\n",
       "      <th>164</th>\n",
       "      <td>844059.0</td>\n",
       "      <td>1.0</td>\n",
       "      <td>('ANARR', 'Z') ('INFAM', '1.0') ==&gt; ('DEROU', 'Z')</td>\n",
       "    </tr>\n",
       "    <tr>\n",
       "      <th>292</th>\n",
       "      <td>844059.0</td>\n",
       "      <td>1.0</td>\n",
       "      <td>('ANARR', 'Z') ('INFAM', '1.0') ==&gt; ('IMMI', '2.0')</td>\n",
       "    </tr>\n",
       "    <tr>\n",
       "      <th>380</th>\n",
       "      <td>844059.0</td>\n",
       "      <td>1.0</td>\n",
       "      <td>('INFAM', '1.0') ('PNAI12', '1.0') ==&gt; ('ANARR', 'Z')</td>\n",
       "    </tr>\n",
       "    <tr>\n",
       "      <th>381</th>\n",
       "      <td>844059.0</td>\n",
       "      <td>1.0</td>\n",
       "      <td>('ANARR', 'Z') ('INFAM', '1.0') ==&gt; ('PNAI12', '1.0')</td>\n",
       "    </tr>\n",
       "    <tr>\n",
       "      <th>455</th>\n",
       "      <td>569977.0</td>\n",
       "      <td>1.0</td>\n",
       "      <td>('EMPL', 'ZZ') ('INFAM', '1.0') ==&gt; ('DEROU', 'Z')</td>\n",
       "    </tr>\n",
       "    <tr>\n",
       "      <th>...</th>\n",
       "      <td>...</td>\n",
       "      <td>...</td>\n",
       "      <td>...</td>\n",
       "    </tr>\n",
       "    <tr>\n",
       "      <th>85998</th>\n",
       "      <td>484390.0</td>\n",
       "      <td>1.0</td>\n",
       "      <td>('ANARR', 'Z') ('INAT', '11.0') ('INFAM', '1.0') ('TRANS', 'Z') ==&gt; ('DEROU', 'Z') ('EMPL', 'ZZ') ('ILTUU', 'Z') ('IMMI', '2.0') ('NATC', '0.0') ('PNAI12', '1.0')</td>\n",
       "    </tr>\n",
       "    <tr>\n",
       "      <th>86002</th>\n",
       "      <td>484390.0</td>\n",
       "      <td>1.0</td>\n",
       "      <td>('ANARR', 'Z') ('ILTUU', 'Z') ('INFAM', '1.0') ('NATC', '0.0') ==&gt; ('DEROU', 'Z') ('EMPL', 'ZZ') ('IMMI', '2.0') ('INAT', '11.0') ('TRANS', 'Z') ('PNAI12', '1.0')</td>\n",
       "    </tr>\n",
       "    <tr>\n",
       "      <th>86003</th>\n",
       "      <td>484390.0</td>\n",
       "      <td>1.0</td>\n",
       "      <td>('ANARR', 'Z') ('ILTUU', 'Z') ('INAT', '11.0') ('INFAM', '1.0') ==&gt; ('DEROU', 'Z') ('EMPL', 'ZZ') ('IMMI', '2.0') ('NATC', '0.0') ('TRANS', 'Z') ('PNAI12', '1.0')</td>\n",
       "    </tr>\n",
       "    <tr>\n",
       "      <th>86007</th>\n",
       "      <td>484390.0</td>\n",
       "      <td>1.0</td>\n",
       "      <td>('ANARR', 'Z') ('EMPL', 'ZZ') ('INFAM', '1.0') ('NATC', '0.0') ==&gt; ('DEROU', 'Z') ('ILTUU', 'Z') ('IMMI', '2.0') ('INAT', '11.0') ('TRANS', 'Z') ('PNAI12', '1.0')</td>\n",
       "    </tr>\n",
       "    <tr>\n",
       "      <th>86008</th>\n",
       "      <td>484390.0</td>\n",
       "      <td>1.0</td>\n",
       "      <td>('ANARR', 'Z') ('EMPL', 'ZZ') ('INAT', '11.0') ('INFAM', '1.0') ==&gt; ('DEROU', 'Z') ('ILTUU', 'Z') ('IMMI', '2.0') ('NATC', '0.0') ('TRANS', 'Z') ('PNAI12', '1.0')</td>\n",
       "    </tr>\n",
       "  </tbody>\n",
       "</table>\n",
       "<p>8643 rows × 3 columns</p>\n",
       "</div>"
      ],
      "text/plain": [
       "            sup conf  \\\n",
       "            sup conf   \n",
       "164    844059.0  1.0   \n",
       "292    844059.0  1.0   \n",
       "380    844059.0  1.0   \n",
       "381    844059.0  1.0   \n",
       "455    569977.0  1.0   \n",
       "...         ...  ...   \n",
       "85998  484390.0  1.0   \n",
       "86002  484390.0  1.0   \n",
       "86003  484390.0  1.0   \n",
       "86007  484390.0  1.0   \n",
       "86008  484390.0  1.0   \n",
       "\n",
       "                                                                                                                                                                      rule  \n",
       "                                                                                                                                                                      rule  \n",
       "164                                                                                                                    ('ANARR', 'Z') ('INFAM', '1.0') ==> ('DEROU', 'Z')   \n",
       "292                                                                                                                   ('ANARR', 'Z') ('INFAM', '1.0') ==> ('IMMI', '2.0')   \n",
       "380                                                                                                                 ('INFAM', '1.0') ('PNAI12', '1.0') ==> ('ANARR', 'Z')   \n",
       "381                                                                                                                 ('ANARR', 'Z') ('INFAM', '1.0') ==> ('PNAI12', '1.0')   \n",
       "455                                                                                                                    ('EMPL', 'ZZ') ('INFAM', '1.0') ==> ('DEROU', 'Z')   \n",
       "...                                                                                                                                                                    ...  \n",
       "85998  ('ANARR', 'Z') ('INAT', '11.0') ('INFAM', '1.0') ('TRANS', 'Z') ==> ('DEROU', 'Z') ('EMPL', 'ZZ') ('ILTUU', 'Z') ('IMMI', '2.0') ('NATC', '0.0') ('PNAI12', '1.0')   \n",
       "86002  ('ANARR', 'Z') ('ILTUU', 'Z') ('INFAM', '1.0') ('NATC', '0.0') ==> ('DEROU', 'Z') ('EMPL', 'ZZ') ('IMMI', '2.0') ('INAT', '11.0') ('TRANS', 'Z') ('PNAI12', '1.0')   \n",
       "86003  ('ANARR', 'Z') ('ILTUU', 'Z') ('INAT', '11.0') ('INFAM', '1.0') ==> ('DEROU', 'Z') ('EMPL', 'ZZ') ('IMMI', '2.0') ('NATC', '0.0') ('TRANS', 'Z') ('PNAI12', '1.0')   \n",
       "86007  ('ANARR', 'Z') ('EMPL', 'ZZ') ('INFAM', '1.0') ('NATC', '0.0') ==> ('DEROU', 'Z') ('ILTUU', 'Z') ('IMMI', '2.0') ('INAT', '11.0') ('TRANS', 'Z') ('PNAI12', '1.0')   \n",
       "86008  ('ANARR', 'Z') ('EMPL', 'ZZ') ('INAT', '11.0') ('INFAM', '1.0') ==> ('DEROU', 'Z') ('ILTUU', 'Z') ('IMMI', '2.0') ('NATC', '0.0') ('TRANS', 'Z') ('PNAI12', '1.0')   \n",
       "\n",
       "[8643 rows x 3 columns]"
      ]
     },
     "execution_count": 157,
     "metadata": {},
     "output_type": "execute_result"
    }
   ],
   "source": [
    "df_rule5=df[np.logical_and(np.logical_and(df.loc[:,('conf','conf')]==1,np.logical_not(df.loc[:,('left','INFAM')].isnull())),df.left_length>1)].loc[:,[(\"sup\",\"sup\"),(\"conf\",\"conf\"),(\"rule\",\"rule\")]]\n",
    "df_rule5"
   ]
  },
  {
   "cell_type": "markdown",
   "metadata": {},
   "source": [
    "most household in GrandEst consist of one family and they are french"
   ]
  },
  {
   "cell_type": "code",
   "execution_count": 162,
   "metadata": {},
   "outputs": [
    {
     "data": {
      "text/html": [
       "<div>\n",
       "<style scoped>\n",
       "    .dataframe tbody tr th:only-of-type {\n",
       "        vertical-align: middle;\n",
       "    }\n",
       "\n",
       "    .dataframe tbody tr th {\n",
       "        vertical-align: top;\n",
       "    }\n",
       "\n",
       "    .dataframe thead tr th {\n",
       "        text-align: left;\n",
       "    }\n",
       "</style>\n",
       "<table border=\"1\" class=\"dataframe\">\n",
       "  <thead>\n",
       "    <tr>\n",
       "      <th></th>\n",
       "      <th>sup</th>\n",
       "      <th>conf</th>\n",
       "      <th>rule</th>\n",
       "    </tr>\n",
       "    <tr>\n",
       "      <th></th>\n",
       "      <th>sup</th>\n",
       "      <th>conf</th>\n",
       "      <th>rule</th>\n",
       "    </tr>\n",
       "  </thead>\n",
       "  <tbody>\n",
       "    <tr>\n",
       "      <th>520</th>\n",
       "      <td>367852.0</td>\n",
       "      <td>1.0</td>\n",
       "      <td>('GARL', '1.0') ('VOIT', '2.0') ==&gt; ('DEROU', 'Z')</td>\n",
       "    </tr>\n",
       "  </tbody>\n",
       "</table>\n",
       "</div>"
      ],
      "text/plain": [
       "          sup conf                                                 rule\n",
       "          sup conf                                                 rule\n",
       "520  367852.0  1.0  ('GARL', '1.0') ('VOIT', '2.0') ==> ('DEROU', 'Z') "
      ]
     },
     "execution_count": 162,
     "metadata": {},
     "output_type": "execute_result"
    }
   ],
   "source": [
    "df_rule6=df[np.logical_and(np.logical_and(df.loc[:,('conf','conf')]==1,np.logical_not(df.loc[:,('left','VOIT')].isnull())),np.logical_not(df.loc[:,('left','GARL')].isnull()))].loc[:,[(\"sup\",\"sup\"),(\"conf\",\"conf\"),(\"rule\",\"rule\")]]\n",
    "df_rule6"
   ]
  },
  {
   "cell_type": "markdown",
   "metadata": {},
   "source": [
    " "
   ]
  },
  {
   "cell_type": "markdown",
   "metadata": {},
   "source": [
    " "
   ]
  },
  {
   "cell_type": "markdown",
   "metadata": {},
   "source": [
    " "
   ]
  },
  {
   "cell_type": "code",
   "execution_count": 168,
   "metadata": {},
   "outputs": [
    {
     "data": {
      "text/html": [
       "<div>\n",
       "<style scoped>\n",
       "    .dataframe tbody tr th:only-of-type {\n",
       "        vertical-align: middle;\n",
       "    }\n",
       "\n",
       "    .dataframe tbody tr th {\n",
       "        vertical-align: top;\n",
       "    }\n",
       "\n",
       "    .dataframe thead tr th {\n",
       "        text-align: left;\n",
       "    }\n",
       "</style>\n",
       "<table border=\"1\" class=\"dataframe\">\n",
       "  <thead>\n",
       "    <tr>\n",
       "      <th></th>\n",
       "      <th>sup</th>\n",
       "      <th>conf</th>\n",
       "      <th>rule</th>\n",
       "    </tr>\n",
       "    <tr>\n",
       "      <th></th>\n",
       "      <th>sup</th>\n",
       "      <th>conf</th>\n",
       "      <th>rule</th>\n",
       "    </tr>\n",
       "  </thead>\n",
       "  <tbody>\n",
       "    <tr>\n",
       "      <th>841</th>\n",
       "      <td>368948.0</td>\n",
       "      <td>1.0</td>\n",
       "      <td>('EMPL', '16') ('ETUD', '2.0') ==&gt; ('TACT', '11.0')</td>\n",
       "    </tr>\n",
       "    <tr>\n",
       "      <th>3276</th>\n",
       "      <td>368948.0</td>\n",
       "      <td>1.0</td>\n",
       "      <td>('DEROU', 'Z') ('EMPL', '16') ('ETUD', '2.0') ==&gt; ('TACT', '11.0')</td>\n",
       "    </tr>\n",
       "    <tr>\n",
       "      <th>3278</th>\n",
       "      <td>368948.0</td>\n",
       "      <td>1.0</td>\n",
       "      <td>('EMPL', '16') ('ETUD', '2.0') ==&gt; ('DEROU', 'Z') ('TACT', '11.0')</td>\n",
       "    </tr>\n",
       "    <tr>\n",
       "      <th>4762</th>\n",
       "      <td>368948.0</td>\n",
       "      <td>1.0</td>\n",
       "      <td>('EMPL', '16') ('ETUD', '2.0') ('RECH', 'Z') ==&gt; ('TACT', '11.0')</td>\n",
       "    </tr>\n",
       "    <tr>\n",
       "      <th>4765</th>\n",
       "      <td>368948.0</td>\n",
       "      <td>1.0</td>\n",
       "      <td>('EMPL', '16') ('ETUD', '2.0') ==&gt; ('RECH', 'Z') ('TACT', '11.0')</td>\n",
       "    </tr>\n",
       "    <tr>\n",
       "      <th>12588</th>\n",
       "      <td>368948.0</td>\n",
       "      <td>1.0</td>\n",
       "      <td>('DEROU', 'Z') ('EMPL', '16') ('ETUD', '2.0') ('RECH', 'Z') ==&gt; ('TACT', '11.0')</td>\n",
       "    </tr>\n",
       "    <tr>\n",
       "      <th>12591</th>\n",
       "      <td>368948.0</td>\n",
       "      <td>1.0</td>\n",
       "      <td>('EMPL', '16') ('ETUD', '2.0') ('RECH', 'Z') ==&gt; ('DEROU', 'Z') ('TACT', '11.0')</td>\n",
       "    </tr>\n",
       "    <tr>\n",
       "      <th>12594</th>\n",
       "      <td>368948.0</td>\n",
       "      <td>1.0</td>\n",
       "      <td>('DEROU', 'Z') ('EMPL', '16') ('ETUD', '2.0') ==&gt; ('RECH', 'Z') ('TACT', '11.0')</td>\n",
       "    </tr>\n",
       "    <tr>\n",
       "      <th>12597</th>\n",
       "      <td>368948.0</td>\n",
       "      <td>1.0</td>\n",
       "      <td>('EMPL', '16') ('ETUD', '2.0') ==&gt; ('DEROU', 'Z') ('RECH', 'Z') ('TACT', '11.0')</td>\n",
       "    </tr>\n",
       "  </tbody>\n",
       "</table>\n",
       "</div>"
      ],
      "text/plain": [
       "            sup conf  \\\n",
       "            sup conf   \n",
       "841    368948.0  1.0   \n",
       "3276   368948.0  1.0   \n",
       "3278   368948.0  1.0   \n",
       "4762   368948.0  1.0   \n",
       "4765   368948.0  1.0   \n",
       "12588  368948.0  1.0   \n",
       "12591  368948.0  1.0   \n",
       "12594  368948.0  1.0   \n",
       "12597  368948.0  1.0   \n",
       "\n",
       "                                                                                    rule  \n",
       "                                                                                    rule  \n",
       "841                                 ('EMPL', '16') ('ETUD', '2.0') ==> ('TACT', '11.0')   \n",
       "3276                 ('DEROU', 'Z') ('EMPL', '16') ('ETUD', '2.0') ==> ('TACT', '11.0')   \n",
       "3278                 ('EMPL', '16') ('ETUD', '2.0') ==> ('DEROU', 'Z') ('TACT', '11.0')   \n",
       "4762                  ('EMPL', '16') ('ETUD', '2.0') ('RECH', 'Z') ==> ('TACT', '11.0')   \n",
       "4765                  ('EMPL', '16') ('ETUD', '2.0') ==> ('RECH', 'Z') ('TACT', '11.0')   \n",
       "12588  ('DEROU', 'Z') ('EMPL', '16') ('ETUD', '2.0') ('RECH', 'Z') ==> ('TACT', '11.0')   \n",
       "12591  ('EMPL', '16') ('ETUD', '2.0') ('RECH', 'Z') ==> ('DEROU', 'Z') ('TACT', '11.0')   \n",
       "12594  ('DEROU', 'Z') ('EMPL', '16') ('ETUD', '2.0') ==> ('RECH', 'Z') ('TACT', '11.0')   \n",
       "12597  ('EMPL', '16') ('ETUD', '2.0') ==> ('DEROU', 'Z') ('RECH', 'Z') ('TACT', '11.0')   "
      ]
     },
     "execution_count": 168,
     "metadata": {},
     "output_type": "execute_result"
    }
   ],
   "source": [
    "df_rule7=df[np.logical_and(np.logical_and(df.loc[:,('conf','conf')]==1,np.logical_not(df.loc[:,('right','TACT')].isnull())),np.logical_not(df.loc[:,('left','ETUD')].isnull()))].loc[:,[(\"sup\",\"sup\"),(\"conf\",\"conf\"),(\"rule\",\"rule\")]]\n",
    "df_rule7"
   ]
  },
  {
   "cell_type": "markdown",
   "metadata": {},
   "source": [
    "people who have Jobs with no time limit, permanent contract,or civil servant and are not registered in an educational institue \n",
    "are Employed people, including apprenticeship or paid internship."
   ]
  },
  {
   "cell_type": "code",
   "execution_count": 179,
   "metadata": {},
   "outputs": [
    {
     "data": {
      "text/html": [
       "<div>\n",
       "<style scoped>\n",
       "    .dataframe tbody tr th:only-of-type {\n",
       "        vertical-align: middle;\n",
       "    }\n",
       "\n",
       "    .dataframe tbody tr th {\n",
       "        vertical-align: top;\n",
       "    }\n",
       "\n",
       "    .dataframe thead tr th {\n",
       "        text-align: left;\n",
       "    }\n",
       "</style>\n",
       "<table border=\"1\" class=\"dataframe\">\n",
       "  <thead>\n",
       "    <tr>\n",
       "      <th></th>\n",
       "      <th>sup</th>\n",
       "      <th>conf</th>\n",
       "      <th>rule</th>\n",
       "    </tr>\n",
       "    <tr>\n",
       "      <th></th>\n",
       "      <th>sup</th>\n",
       "      <th>conf</th>\n",
       "      <th>rule</th>\n",
       "    </tr>\n",
       "  </thead>\n",
       "  <tbody>\n",
       "    <tr>\n",
       "      <th>422</th>\n",
       "      <td>433896.0</td>\n",
       "      <td>1.0</td>\n",
       "      <td>('ANARR', 'Z') ('TACT', '11.0') ==&gt; ('PNAI12', '1.0')</td>\n",
       "    </tr>\n",
       "    <tr>\n",
       "      <th>1790</th>\n",
       "      <td>433896.0</td>\n",
       "      <td>1.0</td>\n",
       "      <td>('ANARR', 'Z') ('DEROU', 'Z') ('TACT', '11.0') ==&gt; ('PNAI12', '1.0')</td>\n",
       "    </tr>\n",
       "    <tr>\n",
       "      <th>1793</th>\n",
       "      <td>433896.0</td>\n",
       "      <td>1.0</td>\n",
       "      <td>('ANARR', 'Z') ('TACT', '11.0') ==&gt; ('DEROU', 'Z') ('PNAI12', '1.0')</td>\n",
       "    </tr>\n",
       "    <tr>\n",
       "      <th>2199</th>\n",
       "      <td>415521.0</td>\n",
       "      <td>1.0</td>\n",
       "      <td>('ANARR', 'Z') ('ETUD', '2.0') ('TACT', '11.0') ==&gt; ('PNAI12', '1.0')</td>\n",
       "    </tr>\n",
       "    <tr>\n",
       "      <th>2670</th>\n",
       "      <td>433896.0</td>\n",
       "      <td>1.0</td>\n",
       "      <td>('ANARR', 'Z') ('IMMI', '2.0') ('TACT', '11.0') ==&gt; ('PNAI12', '1.0')</td>\n",
       "    </tr>\n",
       "    <tr>\n",
       "      <th>...</th>\n",
       "      <td>...</td>\n",
       "      <td>...</td>\n",
       "      <td>...</td>\n",
       "    </tr>\n",
       "    <tr>\n",
       "      <th>82529</th>\n",
       "      <td>409018.0</td>\n",
       "      <td>1.0</td>\n",
       "      <td>('ANARR', 'Z') ('ETUD', '2.0') ('IMMI', '2.0') ('INAT', '11.0') ('TACT', '11.0') ==&gt; ('DEROU', 'Z') ('NATC', '0.0') ('RECH', 'Z') ('PNAI12', '1.0')</td>\n",
       "    </tr>\n",
       "    <tr>\n",
       "      <th>82544</th>\n",
       "      <td>409018.0</td>\n",
       "      <td>1.0</td>\n",
       "      <td>('ANARR', 'Z') ('DEROU', 'Z') ('ETUD', '2.0') ('NATC', '0.0') ('TACT', '11.0') ==&gt; ('IMMI', '2.0') ('INAT', '11.0') ('RECH', 'Z') ('PNAI12', '1.0')</td>\n",
       "    </tr>\n",
       "    <tr>\n",
       "      <th>82546</th>\n",
       "      <td>409018.0</td>\n",
       "      <td>1.0</td>\n",
       "      <td>('ANARR', 'Z') ('DEROU', 'Z') ('ETUD', '2.0') ('INAT', '11.0') ('TACT', '11.0') ==&gt; ('IMMI', '2.0') ('NATC', '0.0') ('RECH', 'Z') ('PNAI12', '1.0')</td>\n",
       "    </tr>\n",
       "    <tr>\n",
       "      <th>82608</th>\n",
       "      <td>409018.0</td>\n",
       "      <td>1.0</td>\n",
       "      <td>('ANARR', 'Z') ('ETUD', '2.0') ('NATC', '0.0') ('TACT', '11.0') ==&gt; ('DEROU', 'Z') ('IMMI', '2.0') ('INAT', '11.0') ('RECH', 'Z') ('PNAI12', '1.0')</td>\n",
       "    </tr>\n",
       "    <tr>\n",
       "      <th>82610</th>\n",
       "      <td>409018.0</td>\n",
       "      <td>1.0</td>\n",
       "      <td>('ANARR', 'Z') ('ETUD', '2.0') ('INAT', '11.0') ('TACT', '11.0') ==&gt; ('DEROU', 'Z') ('IMMI', '2.0') ('NATC', '0.0') ('RECH', 'Z') ('PNAI12', '1.0')</td>\n",
       "    </tr>\n",
       "  </tbody>\n",
       "</table>\n",
       "<p>324 rows × 3 columns</p>\n",
       "</div>"
      ],
      "text/plain": [
       "            sup conf  \\\n",
       "            sup conf   \n",
       "422    433896.0  1.0   \n",
       "1790   433896.0  1.0   \n",
       "1793   433896.0  1.0   \n",
       "2199   415521.0  1.0   \n",
       "2670   433896.0  1.0   \n",
       "...         ...  ...   \n",
       "82529  409018.0  1.0   \n",
       "82544  409018.0  1.0   \n",
       "82546  409018.0  1.0   \n",
       "82608  409018.0  1.0   \n",
       "82610  409018.0  1.0   \n",
       "\n",
       "                                                                                                                                                       rule  \n",
       "                                                                                                                                                       rule  \n",
       "422                                                                                                  ('ANARR', 'Z') ('TACT', '11.0') ==> ('PNAI12', '1.0')   \n",
       "1790                                                                                  ('ANARR', 'Z') ('DEROU', 'Z') ('TACT', '11.0') ==> ('PNAI12', '1.0')   \n",
       "1793                                                                                  ('ANARR', 'Z') ('TACT', '11.0') ==> ('DEROU', 'Z') ('PNAI12', '1.0')   \n",
       "2199                                                                                 ('ANARR', 'Z') ('ETUD', '2.0') ('TACT', '11.0') ==> ('PNAI12', '1.0')   \n",
       "2670                                                                                 ('ANARR', 'Z') ('IMMI', '2.0') ('TACT', '11.0') ==> ('PNAI12', '1.0')   \n",
       "...                                                                                                                                                     ...  \n",
       "82529  ('ANARR', 'Z') ('ETUD', '2.0') ('IMMI', '2.0') ('INAT', '11.0') ('TACT', '11.0') ==> ('DEROU', 'Z') ('NATC', '0.0') ('RECH', 'Z') ('PNAI12', '1.0')   \n",
       "82544  ('ANARR', 'Z') ('DEROU', 'Z') ('ETUD', '2.0') ('NATC', '0.0') ('TACT', '11.0') ==> ('IMMI', '2.0') ('INAT', '11.0') ('RECH', 'Z') ('PNAI12', '1.0')   \n",
       "82546  ('ANARR', 'Z') ('DEROU', 'Z') ('ETUD', '2.0') ('INAT', '11.0') ('TACT', '11.0') ==> ('IMMI', '2.0') ('NATC', '0.0') ('RECH', 'Z') ('PNAI12', '1.0')   \n",
       "82608  ('ANARR', 'Z') ('ETUD', '2.0') ('NATC', '0.0') ('TACT', '11.0') ==> ('DEROU', 'Z') ('IMMI', '2.0') ('INAT', '11.0') ('RECH', 'Z') ('PNAI12', '1.0')   \n",
       "82610  ('ANARR', 'Z') ('ETUD', '2.0') ('INAT', '11.0') ('TACT', '11.0') ==> ('DEROU', 'Z') ('IMMI', '2.0') ('NATC', '0.0') ('RECH', 'Z') ('PNAI12', '1.0')   \n",
       "\n",
       "[324 rows x 3 columns]"
      ]
     },
     "execution_count": 179,
     "metadata": {},
     "output_type": "execute_result"
    }
   ],
   "source": [
    "df_rule8=df[np.logical_and(np.logical_and(df.loc[:,('conf','conf')]==1,np.logical_not(df.loc[:,('right','PNAI12')].isnull())),np.logical_not(df.loc[:,('left','TACT')].isnull()))].loc[:,[(\"sup\",\"sup\"),(\"conf\",\"conf\"),(\"rule\",\"rule\")]]\n",
    "df_rule8"
   ]
  },
  {
   "cell_type": "code",
   "execution_count": null,
   "metadata": {},
   "outputs": [],
   "source": []
  },
  {
   "cell_type": "code",
   "execution_count": null,
   "metadata": {},
   "outputs": [],
   "source": []
  }
 ],
 "metadata": {
  "kernelspec": {
   "display_name": "Python 3",
   "language": "python",
   "name": "python3"
  },
  "language_info": {
   "codemirror_mode": {
    "name": "ipython",
    "version": 3
   },
   "file_extension": ".py",
   "mimetype": "text/x-python",
   "name": "python",
   "nbconvert_exporter": "python",
   "pygments_lexer": "ipython3",
   "version": "3.6.9"
  }
 },
 "nbformat": 4,
 "nbformat_minor": 4
}
